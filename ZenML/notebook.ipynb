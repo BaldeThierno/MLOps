{
  "nbformat": 4,
  "nbformat_minor": 0,
  "metadata": {
    "colab": {
      "provenance": []
    },
    "kernelspec": {
      "name": "python3",
      "display_name": "Python 3"
    },
    "language_info": {
      "name": "python"
    }
  },
  "cells": [
    {
      "cell_type": "code",
      "execution_count": null,
      "metadata": {
        "id": "5AM_ejvI2rop"
      },
      "outputs": [],
      "source": [
        "# Register the MLflow experiment tracker\n",
        "!zenml experiment-tracker register mlflow_tracker --flavor=mlflow\n",
        "\n",
        "# Register the MLflow model registry\n",
        "!zenml model-registry register mlflow_registry --flavor=mlflow\n",
        "\n",
        "# Register the MLflow model deployer\n",
        "!zenml model-deployer register mlflow_deployer --flavor=mlflow\n",
        "\n",
        "# Register the Evidently data validator\n",
        "!zenml data-validator register evidently_validator --flavor=evidently\n",
        "\n",
        "# Register a new stack with the new stack components\n",
        "!zenml stack register quickstart_stack -a default\\\n",
        "                                       -o default\\\n",
        "                                       -d mlflow_deployer\\\n",
        "                                       -e mlflow_tracker\\\n",
        "                                       -r mlflow_registry\\\n",
        "                                       -dv evidently_validator\\\n",
        "                                       --set\n",
        "\n",
        "# Visualize the current ZenML stack\n",
        "!zenml stack describe"
      ]
    },
    {
      "cell_type": "code",
      "source": [
        "from zenml.pipelines import pipeline\n",
        "\n",
        "\n",
        "@pipeline\n",
        "def training_pipeline(\n",
        "    training_data_loader,\n",
        "    trainer,\n",
        "    evaluator,\n",
        "    model_register,\n",
        "):\n",
        "    \"\"\"Train, evaluate, and deploy a model.\"\"\"\n",
        "    X_train, X_test, y_train, y_test = training_data_loader()\n",
        "    model = trainer(X_train=X_train, y_train=y_train)\n",
        "    test_acc = evaluator(X_test=X_test, y_test=y_test, model=model)\n",
        "    model_register(model)\n",
        "\n",
        "\n",
        "@pipeline\n",
        "def inference_pipeline(\n",
        "    inference_data_loader,\n",
        "    mlflow_model_deployer,\n",
        "    predictor,\n",
        "    training_data_loader,\n",
        "    drift_detector,\n",
        "):\n",
        "    \"\"\"Inference pipeline with skew and drift detection.\"\"\"\n",
        "    inference_data = inference_data_loader()\n",
        "    model_deployment_service = mlflow_model_deployer()\n",
        "    predictor(model_deployment_service, inference_data)\n",
        "    training_data, _, _, _ = training_data_loader()\n",
        "    drift_detector(training_data, inference_data)"
      ],
      "metadata": {
        "id": "FVzVXFXR3H-5"
      },
      "execution_count": null,
      "outputs": []
    },
    {
      "cell_type": "code",
      "source": [
        "import numpy as np\n",
        "import pandas as pd\n",
        "from sklearn.datasets import load_iris\n",
        "from sklearn.model_selection import train_test_split\n",
        "\n",
        "from zenml.steps import Output, step\n",
        "\n",
        "\n",
        "@step\n",
        "def training_data_loader() -> Output(\n",
        "    X_train=pd.DataFrame,\n",
        "    X_test=pd.DataFrame,\n",
        "    y_train=pd.Series,\n",
        "    y_test=pd.Series,\n",
        "):\n",
        "    \"\"\"Load the iris dataset as tuple of Pandas DataFrame / Series.\"\"\"\n",
        "    iris = load_iris(as_frame=True)\n",
        "    X_train, X_test, y_train, y_test = train_test_split(\n",
        "        iris.data, iris.target, test_size=0.2, shuffle=True, random_state=42\n",
        "    )\n",
        "    return X_train, X_test, y_train, y_test"
      ],
      "metadata": {
        "id": "_THAFvPX3MTc"
      },
      "execution_count": null,
      "outputs": []
    },
    {
      "cell_type": "code",
      "source": [
        "@step\n",
        "def inference_data_loader() -> pd.DataFrame:\n",
        "    \"\"\"Load some (random) inference data.\"\"\"\n",
        "    return pd.DataFrame(\n",
        "        data=np.random.rand(10, 4) * 10,  # assume range [0, 10]\n",
        "        columns=load_iris(as_frame=True).data.columns,\n",
        "    )"
      ],
      "metadata": {
        "id": "yaE6SLFF3PLJ"
      },
      "execution_count": null,
      "outputs": []
    },
    {
      "cell_type": "code",
      "source": [
        "import mlflow\n",
        "\n",
        "from sklearn.base import ClassifierMixin\n",
        "from sklearn.svm import SVC\n",
        "\n",
        "from zenml.client import Client\n",
        "\n",
        "experiment_tracker = Client().active_stack.experiment_tracker\n",
        "\n",
        "@step(enable_cache=False, experiment_tracker=experiment_tracker.name)\n",
        "def svc_trainer_mlflow(\n",
        "    X_train: pd.DataFrame,\n",
        "    y_train: pd.Series,\n",
        ") -> ClassifierMixin:\n",
        "    \"\"\"Train a sklearn SVC classifier and log to MLflow.\"\"\"\n",
        "    mlflow.sklearn.autolog()  # log all model hparams and metrics to MLflow\n",
        "    model = SVC(gamma=0.01)\n",
        "    model.fit(X_train.to_numpy(), y_train.to_numpy())\n",
        "    train_acc = model.score(X_train.to_numpy(), y_train.to_numpy())\n",
        "    print(f\"Train accuracy: {train_acc}\")\n",
        "    return model"
      ],
      "metadata": {
        "id": "JkWnCH8F3SD3"
      },
      "execution_count": null,
      "outputs": []
    },
    {
      "cell_type": "code",
      "source": [
        "import mlflow\n",
        "\n",
        "from sklearn.base import ClassifierMixin\n",
        "from sklearn.tree import DecisionTreeClassifier\n",
        "\n",
        "from zenml.client import Client\n",
        "from zenml.integrations.mlflow.steps import mlflow_model_deployer_step, MLFlowDeployerParameters\n",
        "\n",
        "experiment_tracker = Client().active_stack.experiment_tracker\n",
        "\n",
        "@step(enable_cache=False, experiment_tracker=experiment_tracker.name)\n",
        "def tree_trainer_mlflow(\n",
        "    X_train: pd.DataFrame,\n",
        "    y_train: pd.Series,\n",
        ") -> ClassifierMixin:\n",
        "    \"\"\"Train a decision tree classifier and log to MLflow.\"\"\"\n",
        "    mlflow.sklearn.autolog()  # log all model hparams and metrics to MLflow\n",
        "    model = DecisionTreeClassifier()\n",
        "    model.fit(X_train.to_numpy(), y_train.to_numpy())\n",
        "    train_acc = model.score(X_train.to_numpy(), y_train.to_numpy())\n",
        "    print(f\"Train accuracy: {train_acc}\")\n",
        "    return model"
      ],
      "metadata": {
        "id": "PPYplhty3VBQ"
      },
      "execution_count": null,
      "outputs": []
    },
    {
      "cell_type": "code",
      "source": [
        "@step\n",
        "def evaluator(\n",
        "    X_test: pd.DataFrame,\n",
        "    y_test: pd.Series,\n",
        "    model: ClassifierMixin,\n",
        ") -> float:\n",
        "    \"\"\"Calculate the accuracy on the test set\"\"\"\n",
        "    test_acc = model.score(X_test.to_numpy(), y_test.to_numpy())\n",
        "    print(f\"Test accuracy: {test_acc}\")\n",
        "    return test_acc"
      ],
      "metadata": {
        "id": "dw7wt7pA3XsX"
      },
      "execution_count": null,
      "outputs": []
    },
    {
      "cell_type": "code",
      "source": [
        "@step\n",
        "def deployment_trigger(test_acc: float) -> bool:\n",
        "    \"\"\"Only deploy if the test accuracy > 90%.\"\"\"\n",
        "    return test_acc > 0.9"
      ],
      "metadata": {
        "id": "pXkKand53aI4"
      },
      "execution_count": null,
      "outputs": []
    },
    {
      "cell_type": "code",
      "source": [
        "from zenml.integrations.mlflow.steps.mlflow_deployer import MLFlowDeployerParameters, mlflow_model_registry_deployer_step\n",
        "from zenml.integrations.mlflow.steps.mlflow_registry import MLFlowRegistryParameters, mlflow_register_model_step\n",
        "from zenml.model_registries.base_model_registry import ModelRegistryModelMetadata"
      ],
      "metadata": {
        "id": "bZYNqvpY3ct_"
      },
      "execution_count": null,
      "outputs": []
    },
    {
      "cell_type": "code",
      "source": [
        "from zenml.integrations.evidently.steps import (\n",
        "    EvidentlyProfileParameters,\n",
        "    evidently_profile_step,\n",
        ")\n",
        "\n",
        "evidently_profile_params = EvidentlyProfileParameters(\n",
        "    profile_sections=[\"datadrift\"]\n",
        ")\n",
        "drift_detector = evidently_profile_step(\n",
        "    step_name=\"drift_detector\", params=evidently_profile_params\n",
        ")"
      ],
      "metadata": {
        "id": "uwq8QeJi3e1f"
      },
      "execution_count": null,
      "outputs": []
    },
    {
      "cell_type": "code",
      "source": [
        "from zenml.services import BaseService\n",
        "from zenml.client import Client\n",
        "\n",
        "\n",
        "@step(enable_cache=False)\n",
        "def prediction_service_loader() -> BaseService:\n",
        "    \"\"\"Load the model service of our train_evaluate_deploy_pipeline.\"\"\"\n",
        "    client = Client()\n",
        "    model_deployer = client.active_stack.model_deployer\n",
        "    services = model_deployer.find_model_server(\n",
        "        pipeline_name=\"training_pipeline\",\n",
        "        pipeline_step_name=\"model_deployer\",\n",
        "        running=True,\n",
        "    )\n",
        "    service = services[0]\n",
        "    return service"
      ],
      "metadata": {
        "id": "CChxrGgn3hn5"
      },
      "execution_count": null,
      "outputs": []
    },
    {
      "cell_type": "code",
      "source": [
        "@step\n",
        "def predictor(\n",
        "    service: BaseService,\n",
        "    data: pd.DataFrame,\n",
        ") -> Output(predictions=list):\n",
        "    \"\"\"Run a inference request against a prediction service\"\"\"\n",
        "    service.start(timeout=10)  # should be a NOP if already started\n",
        "    prediction = service.predict(data.to_numpy())\n",
        "    prediction = prediction.argmax(axis=-1)\n",
        "    print(f\"Prediction is: {[prediction.tolist()]}\")\n",
        "    return [prediction.tolist()]"
      ],
      "metadata": {
        "id": "8FHfSBbP3jyA"
      },
      "execution_count": null,
      "outputs": []
    },
    {
      "cell_type": "code",
      "source": [
        "training_pipeline(\n",
        "    training_data_loader=training_data_loader(),\n",
        "    trainer=svc_trainer_mlflow(),\n",
        "    evaluator=evaluator(),\n",
        "    model_register=mlflow_register_model_step(\n",
        "        params=MLFlowRegistryParameters(\n",
        "            name=\"zenml-quickstart-model\",\n",
        "            metadata=ModelRegistryModelMetadata(\n",
        "                gamma=0.01, arch=\"svc\"\n",
        "            ),\n",
        "            description=f\"The first run of the Quickstart pipeline.\",\n",
        "        )\n",
        "    ),\n",
        ").run(unlisted=True)"
      ],
      "metadata": {
        "id": "bjrMRffw3mZ_"
      },
      "execution_count": null,
      "outputs": []
    },
    {
      "cell_type": "code",
      "source": [
        "training_pipeline(\n",
        "    training_data_loader=training_data_loader(),\n",
        "    trainer=tree_trainer_mlflow(),\n",
        "    evaluator=evaluator(),\n",
        "    model_register=mlflow_register_model_step(\n",
        "        params=MLFlowRegistryParameters(\n",
        "            name=\"zenml-quickstart-model\",\n",
        "            metadata=ModelRegistryModelMetadata(\n",
        "                arch=\"decision_tree\"\n",
        "            ),\n",
        "            description=f\"The second run of the Quickstart pipeline.\",\n",
        "        )\n",
        "    ),\n",
        ").run(unlisted=True)"
      ],
      "metadata": {
        "id": "f0r5CeN73osh"
      },
      "execution_count": null,
      "outputs": []
    },
    {
      "cell_type": "code",
      "source": [
        "!zenml model-registry models list\n",
        "\n",
        "!zenml model-registry models list-versions zenml-quickstart-model"
      ],
      "metadata": {
        "id": "L4-0ia5s3rZ4"
      },
      "execution_count": null,
      "outputs": []
    },
    {
      "cell_type": "code",
      "source": [
        "inference_pipeline(\n",
        "    inference_data_loader=inference_data_loader(),\n",
        "    mlflow_model_deployer=mlflow_model_registry_deployer_step(\n",
        "        params=MLFlowDeployerParameters(\n",
        "            registry_model_name=\"zenml-quickstart-model\",\n",
        "            registry_model_version=\"1\",\n",
        "            # or you can use the model stage if you have set it in the MLflow registry\n",
        "            # registered_model_stage=\"None\" # \"Staging\", \"Production\", \"Archived\"\n",
        "        )\n",
        "    ),\n",
        "    predictor=predictor(),\n",
        "    training_data_loader=training_data_loader(),\n",
        "    drift_detector=drift_detector,\n",
        ").run()"
      ],
      "metadata": {
        "id": "GC_WbBQw3tgB"
      },
      "execution_count": null,
      "outputs": []
    },
    {
      "cell_type": "code",
      "source": [
        "from zenml.environment import Environment\n",
        "from zenml.integrations.mlflow.mlflow_utils import get_tracking_uri\n",
        "\n",
        "\n",
        "def start_zenml_dashboard(port=8237):\n",
        "    if Environment.in_google_colab():\n",
        "        from pyngrok import ngrok\n",
        "\n",
        "        public_url = ngrok.connect(port)\n",
        "        print(f\"\\x1b[31mIn Colab, use this URL instead: {public_url}!\\x1b[0m\")\n",
        "        !zenml up --blocking --port {port}\n",
        "\n",
        "    else:\n",
        "        !zenml up --port {port}\n",
        "\n",
        "start_zenml_dashboard()"
      ],
      "metadata": {
        "id": "T0wstbjJ3xQq"
      },
      "execution_count": null,
      "outputs": []
    }
  ]
}